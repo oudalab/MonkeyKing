{
 "cells": [
  {
   "cell_type": "code",
   "execution_count": 1,
   "metadata": {
    "collapsed": true
   },
   "outputs": [],
   "source": [
    "import pickle"
   ]
  },
  {
   "cell_type": "code",
   "execution_count": 2,
   "metadata": {
    "collapsed": true
   },
   "outputs": [],
   "source": [
    "with open(\"arabicEntity.local\",\"rb\") as f:\n",
    "    arabic_senlist=pickle.load(f)"
   ]
  },
  {
   "cell_type": "code",
   "execution_count": 7,
   "metadata": {
    "collapsed": true
   },
   "outputs": [],
   "source": [
    "import pickle\n",
    "with open(\"stuff_makesense_spacy_ner\",\"rb\") as f1:\n",
    "    spacy_entity=pickle.load(f1)"
   ]
  },
  {
   "cell_type": "code",
   "execution_count": 25,
   "metadata": {},
   "outputs": [
    {
     "name": "stdout",
     "output_type": "stream",
     "text": [
      "True\n"
     ]
    }
   ],
   "source": [
    "for key,value in spacy_entity[0].items():\n",
    "    print(value=='PER')"
   ]
  },
  {
   "cell_type": "code",
   "execution_count": 10,
   "metadata": {},
   "outputs": [
    {
     "name": "stdout",
     "output_type": "stream",
     "text": [
      "الفترة 58e0455306036312a1dfbeb9\n"
     ]
    }
   ],
   "source": [
    "count=0\n",
    "for key,value in arabic_senlist.items():\n",
    "    count=count+1\n",
    "    if(count<2):\n",
    "        print(key,value[0])\n",
    "    else:\n",
    "        break"
   ]
  },
  {
   "cell_type": "code",
   "execution_count": 15,
   "metadata": {
    "collapsed": true
   },
   "outputs": [],
   "source": [
    "test=[0,1,2,3]"
   ]
  },
  {
   "cell_type": "code",
   "execution_count": 18,
   "metadata": {},
   "outputs": [
    {
     "data": {
      "text/plain": [
       "[0, 1, 2, 3]"
      ]
     },
     "execution_count": 18,
     "metadata": {},
     "output_type": "execute_result"
    }
   ],
   "source": [
    "test[0:8]"
   ]
  },
  {
   "cell_type": "markdown",
   "metadata": {},
   "source": [
    "# plan to put 5 sentenceId to the noun if the entity does appear in 5 sentences"
   ]
  },
  {
   "cell_type": "code",
   "execution_count": 14,
   "metadata": {
    "collapsed": true
   },
   "outputs": [],
   "source": [
    "#build person entity and its sentences"
   ]
  },
  {
   "cell_type": "code",
   "execution_count": 59,
   "metadata": {},
   "outputs": [
    {
     "name": "stdout",
     "output_type": "stream",
     "text": [
      "0 processed\n",
      "5000 processed\n",
      "5000 processed\n",
      "5000 processed\n",
      "5000 processed\n",
      "10000 processed\n",
      "15000 processed\n",
      "20000 processed\n",
      "20000 processed\n",
      "20000 processed\n",
      "20000 processed\n",
      "25000 processed\n",
      "30000 processed\n",
      "35000 processed\n",
      "35000 processed\n",
      "35000 processed\n",
      "40000 processed\n",
      "40000 processed\n",
      "40000 processed\n",
      "40000 processed\n",
      "40000 processed\n",
      "40000 processed\n",
      "45000 processed\n",
      "50000 processed\n",
      "50000 processed\n",
      "55000 processed\n",
      "60000 processed\n",
      "65000 processed\n",
      "70000 processed\n",
      "70000 processed\n",
      "70000 processed\n",
      "70000 processed\n",
      "70000 processed\n",
      "75000 processed\n",
      "80000 processed\n",
      "80000 processed\n",
      "80000 processed\n",
      "80000 processed\n",
      "80000 processed\n",
      "80000 processed\n",
      "80000 processed\n",
      "80000 processed\n",
      "80000 processed\n",
      "85000 processed\n",
      "85000 processed\n",
      "85000 processed\n",
      "90000 processed\n",
      "95000 processed\n",
      "100000 processed\n",
      "100000 processed\n",
      "100000 processed\n",
      "105000 processed\n",
      "105000 processed\n",
      "105000 processed\n",
      "105000 processed\n",
      "105000 processed\n",
      "110000 processed\n",
      "110000 processed\n",
      "115000 processed\n",
      "115000 processed\n",
      "115000 processed\n",
      "115000 processed\n",
      "115000 processed\n",
      "115000 processed\n",
      "115000 processed\n",
      "120000 processed\n",
      "125000 processed\n",
      "130000 processed\n",
      "135000 processed\n",
      "135000 processed\n",
      "135000 processed\n",
      "135000 processed\n",
      "135000 processed\n",
      "135000 processed\n",
      "135000 processed\n",
      "135000 processed\n",
      "135000 processed\n",
      "135000 processed\n",
      "135000 processed\n",
      "135000 processed\n",
      "135000 processed\n",
      "140000 processed\n",
      "145000 processed\n",
      "150000 processed\n",
      "150000 processed\n",
      "155000 processed\n",
      "155000 processed\n",
      "155000 processed\n",
      "155000 processed\n",
      "155000 processed\n",
      "155000 processed\n",
      "155000 processed\n",
      "160000 processed\n",
      "160000 processed\n",
      "160000 processed\n",
      "160000 processed\n",
      "165000 processed\n",
      "170000 processed\n",
      "170000 processed\n",
      "170000 processed\n",
      "170000 processed\n",
      "170000 processed\n",
      "170000 processed\n",
      "175000 processed\n",
      "180000 processed\n",
      "180000 processed\n",
      "180000 processed\n",
      "185000 processed\n",
      "190000 processed\n",
      "CPU times: user 638 ms, sys: 14.9 ms, total: 653 ms\n",
      "Wall time: 648 ms\n"
     ]
    }
   ],
   "source": [
    "%%time\n",
    "person_sentences_dic={}\n",
    "org_sentences_dic={}\n",
    "count=0\n",
    "for entity in spacy_entity:\n",
    "    if(count%5000==0):\n",
    "        print(str(count)+\" processed\");\n",
    "    try:\n",
    "        for key,value in entity.items():\n",
    "            if(value=='PER'):\n",
    "                sentences_list=arabic_senlist[key][0:5]\n",
    "                person_sentences_dic[key]=sentences_list\n",
    "                count=count+1\n",
    "            elif(value=='ORG'):\n",
    "                sentences_list1=arabic_senlist[key][0:5]\n",
    "                org_sentences_dic[key]=sentences_list1\n",
    "                count=count+1\n",
    "            else:\n",
    "                continue;\n",
    "    except:\n",
    "        continue;\n",
    "        \n",
    "        "
   ]
  },
  {
   "cell_type": "code",
   "execution_count": 47,
   "metadata": {},
   "outputs": [
    {
     "data": {
      "text/plain": [
       "111316"
      ]
     },
     "execution_count": 47,
     "metadata": {},
     "output_type": "execute_result"
    }
   ],
   "source": [
    "len(person_sentences_dic)"
   ]
  },
  {
   "cell_type": "code",
   "execution_count": 34,
   "metadata": {},
   "outputs": [
    {
     "name": "stdout",
     "output_type": "stream",
     "text": [
      "[ObjectId('58e0455306036312a1dfbf00'), ObjectId('58e0455306036312a1dfbf0c'), ObjectId('58e0455306036312a1dfbf0d'), ObjectId('58e0455306036312a1dfbf1a')]\n"
     ]
    }
   ],
   "source": [
    "count=0\n",
    "for entity in spacy_entity:\n",
    "    count=count+1\n",
    "    if(count<2):\n",
    "        for key,value in entity.items():\n",
    "            print(arabic_senlist[key][0:4])\n",
    "    else:\n",
    "        break\n",
    "        "
   ]
  },
  {
   "cell_type": "code",
   "execution_count": 64,
   "metadata": {},
   "outputs": [
    {
     "name": "stdout",
     "output_type": "stream",
     "text": [
      "العام\n",
      "[ObjectId('58e0455306036312a1dfbf00'), ObjectId('58e0455306036312a1dfbf0c'), ObjectId('58e0455306036312a1dfbf0d'), ObjectId('58e0455306036312a1dfbf1a'), ObjectId('58e0455306036312a1dfbf28')]\n",
      "الرئيس\n",
      "[ObjectId('58e0455306036312a1dfbedb'), ObjectId('58e0455306036312a1dfbef5'), ObjectId('58e0455306036312a1dfbf23'), ObjectId('58e0455306036312a1dfbf31'), ObjectId('58e0455406036312a1dfbf3c')]\n"
     ]
    }
   ],
   "source": [
    "count=0\n",
    "for key,value in person_sentences_dic.items():\n",
    "    count=count+1\n",
    "    if(count<3):\n",
    "        print(key)\n",
    "        print(value)"
   ]
  },
  {
   "cell_type": "code",
   "execution_count": 76,
   "metadata": {
    "collapsed": true
   },
   "outputs": [],
   "source": [
    "#verify that the word is in the sentence linked by the sentenceId it stores"
   ]
  },
  {
   "cell_type": "code",
   "execution_count": 77,
   "metadata": {},
   "outputs": [],
   "source": [
    "sentence=\"ويقول الادعاء العام الايطالي إن الإمام المصري اختطف على أيدي عملاء السي.آي.إيه الذين نقلوه إلى قاعدة «آفيانو» الجوية والتي تقيم فيها وحدات إيطالية واميركية، ثم نقل إلى ألمانيا وبعدها إلى مصر، حيث تعرض للتعذيب، بحسب قوله.\""
   ]
  },
  {
   "cell_type": "code",
   "execution_count": 78,
   "metadata": {},
   "outputs": [],
   "source": [
    "word=\"العام\""
   ]
  },
  {
   "cell_type": "code",
   "execution_count": 79,
   "metadata": {},
   "outputs": [
    {
     "data": {
      "text/plain": [
       "True"
      ]
     },
     "execution_count": 79,
     "metadata": {},
     "output_type": "execute_result"
    }
   ],
   "source": [
    "word in sentence"
   ]
  },
  {
   "cell_type": "code",
   "execution_count": 65,
   "metadata": {
    "collapsed": true
   },
   "outputs": [],
   "source": [
    "import pickle\n",
    "try:\n",
    "    with open(\"per_entities_sentences_dic.data\",'wb') as f:\n",
    "        pickle.dump(person_sentences_dic,f,pickle.HIGHEST_PROTOCOL)\n",
    "except Exception as e:\n",
    "    print(e)\n",
    "    pass"
   ]
  },
  {
   "cell_type": "code",
   "execution_count": 66,
   "metadata": {
    "collapsed": true
   },
   "outputs": [],
   "source": [
    "import pickle\n",
    "try:\n",
    "    with open(\"org_entities_sentences_dic.data\",'wb') as f:\n",
    "        pickle.dump(org_sentences_dic,f,pickle.HIGHEST_PROTOCOL)\n",
    "except Exception as e:\n",
    "    print(e)\n",
    "    pass"
   ]
  },
  {
   "cell_type": "code",
   "execution_count": 80,
   "metadata": {
    "collapsed": true
   },
   "outputs": [],
   "source": [
    "from pymongo import MongoClient\n",
    "import time\n",
    "import pickle\n",
    "client=MongoClient()\n",
    "client=MongoClient('mongodb:/portland.cs.ou.edu')\n",
    "db=client['lexisnexis']\n",
    "table=db[\"fast_per_entities\"]"
   ]
  },
  {
   "cell_type": "code",
   "execution_count": 82,
   "metadata": {},
   "outputs": [
    {
     "data": {
      "text/plain": [
       "111316"
      ]
     },
     "execution_count": 82,
     "metadata": {},
     "output_type": "execute_result"
    }
   ],
   "source": [
    "len(person_sentences_dic)"
   ]
  },
  {
   "cell_type": "code",
   "execution_count": 85,
   "metadata": {},
   "outputs": [
    {
     "name": "stdout",
     "output_type": "stream",
     "text": [
      "5000\n",
      "10000\n",
      "15000\n",
      "20000\n",
      "25000\n",
      "30000\n",
      "35000\n",
      "40000\n",
      "45000\n",
      "50000\n",
      "55000\n",
      "60000\n",
      "65000\n",
      "70000\n",
      "75000\n",
      "80000\n",
      "85000\n",
      "90000\n",
      "95000\n",
      "100000\n",
      "105000\n",
      "110000\n"
     ]
    }
   ],
   "source": [
    "count=0\n",
    "for key,value in person_sentences_dic.items():\n",
    "    count=count+1\n",
    "    if(count%5000==0):\n",
    "        print(count)\n",
    "    table.insert_one({\"word\":key,\"sentenceids\":value})"
   ]
  },
  {
   "cell_type": "code",
   "execution_count": 86,
   "metadata": {},
   "outputs": [
    {
     "data": {
      "text/plain": [
       "7864"
      ]
     },
     "execution_count": 86,
     "metadata": {},
     "output_type": "execute_result"
    }
   ],
   "source": [
    "len(org_sentences_dic)"
   ]
  },
  {
   "cell_type": "code",
   "execution_count": null,
   "metadata": {},
   "outputs": [
    {
     "name": "stderr",
     "output_type": "stream",
     "text": [
      "/Users/yanliang/eventData/yan-virtualenv/document_cluster/lib/python3.6/site-packages/ipykernel_launcher.py:3: DeprecationWarning: insert is deprecated. Use insert_one or insert_many instead.\n",
      "  This is separate from the ipykernel package so we can avoid doing imports until\n"
     ]
    }
   ],
   "source": [
    "table=db[\"fast_org_entities\"]\n",
    "for key,value in org_sentences_dic.items():\n",
    "    table.insert({\"word\":key,\"sentenceids\":value})\n"
   ]
  },
  {
   "cell_type": "code",
   "execution_count": null,
   "metadata": {
    "collapsed": true
   },
   "outputs": [],
   "source": []
  }
 ],
 "metadata": {
  "kernelspec": {
   "display_name": "Python 3",
   "language": "python",
   "name": "python3"
  },
  "language_info": {
   "codemirror_mode": {
    "name": "ipython",
    "version": 3
   },
   "file_extension": ".py",
   "mimetype": "text/x-python",
   "name": "python",
   "nbconvert_exporter": "python",
   "pygments_lexer": "ipython3",
   "version": "3.6.1"
  }
 },
 "nbformat": 4,
 "nbformat_minor": 2
}
